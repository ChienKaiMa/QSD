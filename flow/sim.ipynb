{
 "cells": [
  {
   "cell_type": "markdown",
   "metadata": {},
   "source": [
    "# Quantum Circuit Simulation for Quantum State Discrimination"
   ]
  },
  {
   "cell_type": "markdown",
   "metadata": {},
   "source": [
    "UQSD for now"
   ]
  },
  {
   "cell_type": "markdown",
   "metadata": {},
   "source": [
    "## Load the target circuit"
   ]
  },
  {
   "cell_type": "code",
   "execution_count": 1,
   "metadata": {},
   "outputs": [],
   "source": [
    "nq = 2\n",
    "ns = 3\n",
    "seed = 1\n",
    "case_id = f\"q{nq}_n{ns}_s{seed}\"\n",
    "qasm_name = f\"qc_iso_{case_id}_no_backend.qasm\""
   ]
  },
  {
   "cell_type": "code",
   "execution_count": 2,
   "metadata": {},
   "outputs": [
    {
     "name": "stdout",
     "output_type": "stream",
     "text": [
      "OrderedDict({'u': 70, 'cx': 47, 'rz': 7})\n",
      "96\n"
     ]
    }
   ],
   "source": [
    "from qiskit.circuit import QuantumCircuit\n",
    "\n",
    "qc = QuantumCircuit.from_qasm_file(qasm_name)\n",
    "print(qc.count_ops())\n",
    "print(qc.depth())"
   ]
  },
  {
   "cell_type": "code",
   "execution_count": 3,
   "metadata": {},
   "outputs": [],
   "source": [
    "import logging\n",
    "\n",
    "logging.basicConfig(\n",
    "    filename=f\"sim_{case_id}.log\",\n",
    "    filemode=\"a\",\n",
    "    format=\"{asctime} {levelname} {filename}:{lineno}: {message}\",\n",
    "    datefmt=\"%Y-%m-%d %H:%M:%S\",\n",
    "    style=\"{\",\n",
    "    level=logging.INFO,\n",
    "    encoding=\"utf-8\",\n",
    ")\n",
    "logger = logging.getLogger(__name__)"
   ]
  },
  {
   "cell_type": "markdown",
   "metadata": {},
   "source": [
    "## Warm up: some quick checks"
   ]
  },
  {
   "cell_type": "code",
   "execution_count": 4,
   "metadata": {},
   "outputs": [
    {
     "name": "stdout",
     "output_type": "stream",
     "text": [
      "[[ 0.7006-0.0719j  0.3096+0.0719j -0.2689-0.6877j]\n",
      " [-0.5377+0.2181j -0.2839-0.3145j -0.1648+0.0849j]\n",
      " [ 0.3139+0.0322j -0.1023-0.6693j -0.261 -0.4361j]\n",
      " [ 0.161 -0.2046j  0.42  -0.2911j  0.3049-0.263j ]]\n",
      "[[-0.1203+0.2076j -0.8167+0.7522j  0.8676+0.4082j  0.4677-0.6611j]\n",
      " [ 0.3483+0.7509j  0.3331-0.0642j -0.1808-1.187j  -0.2086-0.643j ]\n",
      " [-0.8597-0.9186j -0.7606-0.2354j  0.0821+0.5225j  1.0824+0.1863j]]\n",
      "[[-0.0535-0.0924j -0.3635-0.3348j  0.3862-0.1817j  0.2082+0.2942j]\n",
      " [ 0.1692-0.3649j  0.1619+0.0312j -0.0879+0.5768j -0.1013+0.3125j]]\n"
     ]
    },
    {
     "data": {
      "text/plain": [
       "array([[ 1.0000e+00-5.8287e-16j,  5.5511e-17-4.9960e-16j,\n",
       "        -8.0491e-16-7.7716e-16j],\n",
       "       [-2.8103e-16+2.0817e-16j,  1.0000e+00-4.1633e-17j,\n",
       "         4.9960e-16+1.5266e-16j],\n",
       "       [-2.8536e-16+1.6653e-16j,  0.0000e+00-1.1102e-16j,\n",
       "         1.0000e+00-1.9429e-16j]])"
      ]
     },
     "execution_count": 4,
     "metadata": {},
     "output_type": "execute_result"
    }
   ],
   "source": [
    "# Debug POVM and Phi_tilde\n",
    "import numpy as np\n",
    "\n",
    "np.set_printoptions(precision=4)\n",
    "Phi = np.load(f\"Phi_{case_id}.npy\")\n",
    "Phi_tilde = np.load(f\"Phi_tilde_{case_id}.npy\")\n",
    "povm = np.load(f\"povm_{case_id}.npy\")\n",
    "\n",
    "print(Phi)  # target states\n",
    "print(Phi_tilde)\n",
    "print(povm)\n",
    "np.matmul(Phi_tilde.conj(), Phi)  # Should be identity"
   ]
  },
  {
   "cell_type": "code",
   "execution_count": 5,
   "metadata": {},
   "outputs": [
    {
     "name": "stdout",
     "output_type": "stream",
     "text": [
      "8\n",
      "Approx\n",
      "OrderedDict({'u3': 53, 'cx': 47, 'rz': 7, 'ry': 2, 'rx': 2})\n",
      "93\n"
     ]
    }
   ],
   "source": [
    "import sys\n",
    "import time\n",
    "import tracemalloc\n",
    "import qiskit.transpiler\n",
    "import qiskit.synthesis\n",
    "import qiskit\n",
    "from qiskit import transpile\n",
    "\n",
    "qc = transpile(qc, basis_gates=[\"rx\", \"ry\", \"rz\", \"cx\"])\n",
    "print(int(qc.depth() * 0.05))\n",
    "qc_approx = transpile(\n",
    "    circuits=qc,\n",
    "    unitary_synthesis_method=\"aqc\",\n",
    "    unitary_synthesis_plugin_config={\n",
    "        \"network_layout\": \"cart\",\n",
    "        \"connectivity_type\": \"star\",\n",
    "        \"depth\": int(qc.depth() * 0.05),\n",
    "    },\n",
    ")\n",
    "print(\"Approx\")\n",
    "print(qc_approx.count_ops())\n",
    "print(qc_approx.depth())"
   ]
  },
  {
   "cell_type": "code",
   "execution_count": 6,
   "metadata": {},
   "outputs": [
    {
     "name": "stdout",
     "output_type": "stream",
     "text": [
      "OrderedDict({'rz': 344, 'sx': 216, 'ecr': 101, 'x': 23})\n",
      "448\n"
     ]
    }
   ],
   "source": [
    "## # [:-15] Remove \"no_backend.qasm\" and add \"ibm_brisbane.qasm\"\n",
    "qc_full = QuantumCircuit.from_qasm_file(qasm_name[:-15] + \"ibm_brisbane.qasm\")\n",
    "print(qc_full.count_ops())\n",
    "print(qc_full.depth())"
   ]
  },
  {
   "cell_type": "markdown",
   "metadata": {},
   "source": [
    "## Define handy simulation backends"
   ]
  },
  {
   "cell_type": "code",
   "execution_count": 7,
   "metadata": {},
   "outputs": [
    {
     "data": {
      "text/plain": [
       "('automatic',\n",
       " 'statevector',\n",
       " 'density_matrix',\n",
       " 'stabilizer',\n",
       " 'matrix_product_state',\n",
       " 'extended_stabilizer',\n",
       " 'unitary',\n",
       " 'superop')"
      ]
     },
     "execution_count": 7,
     "metadata": {},
     "output_type": "execute_result"
    }
   ],
   "source": [
    "from qiskit_aer import AerSimulator\n",
    "\n",
    "AerSimulator().available_methods()"
   ]
  },
  {
   "cell_type": "code",
   "execution_count": 8,
   "metadata": {},
   "outputs": [],
   "source": [
    "sv_backend = AerSimulator(method=\"statevector\", seed_simulator=42)\n",
    "dm_backend = AerSimulator(method=\"density_matrix\", seed_simulator=42)\n",
    "sv_gpu_backend = AerSimulator(method=\"statevector\", device=\"GPU\", seed_simulator=42)\n",
    "dm_gpu_backend = AerSimulator(method=\"density_matrix\", device=\"GPU\", seed_simulator=42)"
   ]
  },
  {
   "cell_type": "markdown",
   "metadata": {},
   "source": [
    "## Load states"
   ]
  },
  {
   "cell_type": "code",
   "execution_count": 9,
   "metadata": {},
   "outputs": [],
   "source": [
    "from problem_spec import *"
   ]
  },
  {
   "cell_type": "code",
   "execution_count": 10,
   "metadata": {},
   "outputs": [],
   "source": [
    "states = ProblemSpec.gen_states(\n",
    "    num_qubits=nq,\n",
    "    num_states=ns,\n",
    "    seeds=get_random_seeds(ns, seed=seed),\n",
    "    state_type=\"statevector\",\n",
    ")"
   ]
  },
  {
   "cell_type": "markdown",
   "metadata": {},
   "source": [
    "# Ideal sim verification"
   ]
  },
  {
   "cell_type": "markdown",
   "metadata": {},
   "source": [
    "Our original circuit does not contain final measurements\n",
    "\n",
    "It is copied because measure_active creates new ClassicalRegisters every time\n",
    "\n",
    "https://docs.quantum.ibm.com/guides/measure-qubits"
   ]
  },
  {
   "cell_type": "markdown",
   "metadata": {},
   "source": [
    "The state discrimination circuit without the initial state"
   ]
  },
  {
   "cell_type": "code",
   "execution_count": 11,
   "metadata": {},
   "outputs": [],
   "source": [
    "qc_tmp = qc_approx.copy()\n",
    "qc_tmp.save_statevector()\n",
    "qc_tmp.measure_active()\n",
    "\n",
    "# Assume the job always got done quickly\n",
    "result = sv_backend.run(qc_tmp).result()"
   ]
  },
  {
   "cell_type": "code",
   "execution_count": 12,
   "metadata": {},
   "outputs": [
    {
     "data": {
      "text/plain": [
       "{'010': 1, '000': 4, '100': 192, '001': 167, '011': 660}"
      ]
     },
     "execution_count": 12,
     "metadata": {},
     "output_type": "execute_result"
    }
   ],
   "source": [
    "result.get_counts()"
   ]
  },
  {
   "cell_type": "code",
   "execution_count": 13,
   "metadata": {},
   "outputs": [
    {
     "name": "stdout",
     "output_type": "stream",
     "text": [
      "Statevector([-9.3077e-02-5.2359e-02j, -3.9749e-02-4.0023e-01j,\n",
      "              8.2738e-03-4.8842e-03j,  6.7787e-01-4.0016e-01j,\n",
      "              3.9189e-01-2.3135e-01j,  9.7145e-17+1.6653e-16j,\n",
      "              1.6447e-16+2.2786e-16j, -4.5262e-17+6.2578e-17j],\n",
      "            dims=(2, 2, 2))\n"
     ]
    }
   ],
   "source": [
    "result.get_statevector()"
   ]
  },
  {
   "cell_type": "markdown",
   "metadata": {},
   "source": [
    "## Construct DUT\n",
    "The circuit with one of the target initial states"
   ]
  },
  {
   "cell_type": "code",
   "execution_count": 14,
   "metadata": {},
   "outputs": [],
   "source": [
    "from qiskit_aer.library import SetStatevector, set_statevector, SetDensityMatrix\n",
    "from qiskit.quantum_info import Statevector\n",
    "\n",
    "dut = QuantumCircuit(qc.num_qubits)\n",
    "inst = dut.set_statevector(states[0].expand(Statevector([1, 0]))).instructions\n",
    "dut.append(inst[0], [_ for _ in range(qc.num_qubits)])\n",
    "# dut.save_statevector()\n",
    "dut.append(qc, [_ for _ in range(qc.num_qubits)])\n",
    "dut.save_statevector()\n",
    "dut.measure_active()"
   ]
  },
  {
   "cell_type": "code",
   "execution_count": 15,
   "metadata": {},
   "outputs": [
    {
     "data": {
      "text/html": [
       "<pre style=\"word-wrap: normal;white-space: pre;background: #fff0;line-height: 1.1;font-family: &quot;Courier New&quot;,Courier,monospace\">            ░  ░ ┌──────────────┐ statevector  ░ ┌─┐      \n",
       "      q_0: ─░──░─┤0             ├──────░───────░─┤M├──────\n",
       "            ░  ░ │              │      ░       ░ └╥┘┌─┐   \n",
       "      q_1: ─░──░─┤1 circuit-160 ├──────░───────░──╫─┤M├───\n",
       "            ░  ░ │              │      ░       ░  ║ └╥┘┌─┐\n",
       "      q_2: ─░──░─┤2             ├──────░───────░──╫──╫─┤M├\n",
       "            ░  ░ └──────────────┘      ░       ░  ║  ║ └╥┘\n",
       "measure: 3/═══════════════════════════════════════╩══╩══╩═\n",
       "                                                  0  1  2 </pre>"
      ],
      "text/plain": [
       "            ░  ░ ┌──────────────┐ statevector  ░ ┌─┐      \n",
       "      q_0: ─░──░─┤0             ├──────░───────░─┤M├──────\n",
       "            ░  ░ │              │      ░       ░ └╥┘┌─┐   \n",
       "      q_1: ─░──░─┤1 circuit-160 ├──────░───────░──╫─┤M├───\n",
       "            ░  ░ │              │      ░       ░  ║ └╥┘┌─┐\n",
       "      q_2: ─░──░─┤2             ├──────░───────░──╫──╫─┤M├\n",
       "            ░  ░ └──────────────┘      ░       ░  ║  ║ └╥┘\n",
       "measure: 3/═══════════════════════════════════════╩══╩══╩═\n",
       "                                                  0  1  2 "
      ]
     },
     "execution_count": 15,
     "metadata": {},
     "output_type": "execute_result"
    }
   ],
   "source": [
    "dut.decompose(reps=1).draw(style=\"mpl\")  # May be large\n",
    "dut.draw(style=\"mpl\")"
   ]
  },
  {
   "cell_type": "code",
   "execution_count": 16,
   "metadata": {},
   "outputs": [],
   "source": [
    "# TODO Sim DUT\n",
    "result = sv_backend.run(dut.decompose(reps=3)).result()"
   ]
  },
  {
   "cell_type": "code",
   "execution_count": 17,
   "metadata": {},
   "outputs": [
    {
     "data": {
      "text/plain": [
       "{'011': 358, '000': 203, '010': 52, '100': 411}"
      ]
     },
     "execution_count": 17,
     "metadata": {},
     "output_type": "execute_result"
    }
   ],
   "source": [
    "result.get_counts()"
   ]
  },
  {
   "cell_type": "code",
   "execution_count": 18,
   "metadata": {},
   "outputs": [
    {
     "name": "stdout",
     "output_type": "stream",
     "text": [
      "Statevector([ 3.6122e-01+2.6005e-01j, -9.1113e-09+8.1078e-09j,\n",
      "              7.7778e-02-2.0079e-01j,  5.5581e-01+1.6947e-01j,\n",
      "              4.7390e-01+4.3966e-01j, -1.0288e-16+2.8879e-16j,\n",
      "             -3.7919e-16-1.1969e-17j,  4.6713e-16-6.0059e-16j],\n",
      "            dims=(2, 2, 2))\n"
     ]
    }
   ],
   "source": [
    "result.get_statevector()"
   ]
  },
  {
   "cell_type": "code",
   "execution_count": 19,
   "metadata": {},
   "outputs": [],
   "source": [
    "# TODO\n",
    "custom_backend = AerSimulator(\n",
    "    configuration=None,\n",
    "    properties=None,\n",
    "    provider=None,\n",
    "    method=\"density_matrix\",\n",
    "    noise_model=\"\",\n",
    ")"
   ]
  },
  {
   "cell_type": "markdown",
   "metadata": {},
   "source": [
    "# Noisy sim extrapolation"
   ]
  },
  {
   "cell_type": "code",
   "execution_count": 20,
   "metadata": {},
   "outputs": [],
   "source": [
    "from qiskit.providers import fake_provider\n",
    "\n",
    "fake_backend = qiskit.providers.fake_provider.Fake127QPulseV1()"
   ]
  },
  {
   "cell_type": "code",
   "execution_count": 21,
   "metadata": {},
   "outputs": [],
   "source": [
    "# noise_model =  NoiseModel.from_backend()"
   ]
  }
 ],
 "metadata": {
  "kernelspec": {
   "display_name": "q1",
   "language": "python",
   "name": "python3"
  },
  "language_info": {
   "codemirror_mode": {
    "name": "ipython",
    "version": 3
   },
   "file_extension": ".py",
   "mimetype": "text/x-python",
   "name": "python",
   "nbconvert_exporter": "python",
   "pygments_lexer": "ipython3",
   "version": "3.12.4"
  }
 },
 "nbformat": 4,
 "nbformat_minor": 2
}
